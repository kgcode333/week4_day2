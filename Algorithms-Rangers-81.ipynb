{
 "cells": [
  {
   "cell_type": "code",
   "execution_count": null,
   "metadata": {},
   "outputs": [],
   "source": [
    "#Kims Version"
   ]
  },
  {
   "cell_type": "markdown",
   "metadata": {},
   "source": [
    "# Classic Algorithms"
   ]
  },
  {
   "cell_type": "markdown",
   "metadata": {},
   "source": [
    "## Tasks Today:\n",
    " \n",
    "1) <b>In-Place Algorithms</b> <br>\n",
    " &nbsp;&nbsp;&nbsp;&nbsp; a) Syntax <br>\n",
    " &nbsp;&nbsp;&nbsp;&nbsp; a) Out of Place Algorithm <br>\n",
    " &nbsp;&nbsp;&nbsp;&nbsp; b) In-Class Exercise #1 <br>\n",
    "2) <b>Two Pointers</b> <br>\n",
    "3) <b>Merge Sort</b> <br>\n",
    " &nbsp;&nbsp;&nbsp;&nbsp; a) Video on Algorithms <br>\n",
    " &nbsp;&nbsp;&nbsp;&nbsp; b) How it Works <br>\n",
    "4) <b>Exercises</b> <br>\n",
    " &nbsp;&nbsp;&nbsp;&nbsp; a) Exercise #1 - Reverse a List in Place Using an In-Place Algorithm <br>\n",
    " &nbsp;&nbsp;&nbsp;&nbsp; b) Exercise #2 - Find Distinct Words <br>\n",
    " &nbsp;&nbsp;&nbsp;&nbsp; c) Exercise #3 - Write a program to implement a Linear Search Algorithm. <br>"
   ]
  },
  {
   "cell_type": "markdown",
   "metadata": {},
   "source": [
    "## In-Place Algorithms (Constant Space)"
   ]
  },
  {
   "cell_type": "markdown",
   "metadata": {},
   "source": [
    "#### Syntax"
   ]
  },
  {
   "cell_type": "code",
   "execution_count": 17,
   "metadata": {},
   "outputs": [
    {
     "name": "stdout",
     "output_type": "stream",
     "text": [
      "my list before swap: [10, 20, 30]\n",
      "my list after swap: [30, 20, 10]\n"
     ]
    }
   ],
   "source": [
    "# swap algorithm\n",
    "# var[i],[vari+1] = var[i+1], var[i]\n",
    "\n",
    "def swap(alist,x,y,z):\n",
    "    alist[x], alist[y], alist[z] = alist[z], alist[y], alist[x]\n",
    "                                                            \n",
    "    return alist\n",
    "my_list = [10,20,30]\n",
    "print(f\"my list before swap: {my_list}\")\n",
    "\n",
    "swap(my_list, 0,1,2)\n",
    "print(f\"my list after swap: {my_list}\")"
   ]
  },
  {
   "cell_type": "markdown",
   "metadata": {},
   "source": [
    "#### Out of Place Algorithm"
   ]
  },
  {
   "cell_type": "code",
   "execution_count": 70,
   "metadata": {},
   "outputs": [
    {
     "name": "stdout",
     "output_type": "stream",
     "text": [
      "['a', 'a', 'a', 'a']\n",
      "Before ['a', 'b', 'c', 'd']\n",
      "after ['d', 'c', 'b', 'a']\n"
     ]
    }
   ],
   "source": [
    "# Inplace version\n",
    "my_list.reverse()\n",
    "\n",
    "\n",
    "# Reversing a list out of place \n",
    "# my_list_reversed = my_list[::-1]\n",
    "\n",
    "array = ['a','b','c','d']\n",
    "new_array = ['a'] * len(array)\n",
    "print(new_array)\n",
    "print('Before', array)\n",
    "\n",
    "length = len(array) - 1\n",
    "\n",
    "for i in range(length):\n",
    "    new_array[i] = array[length - i]\n",
    "array = new_array\n",
    "print('after',array)"
   ]
  },
  {
   "cell_type": "markdown",
   "metadata": {},
   "source": [
    "#### In-Class Exercise #1 <br>\n",
    "<p>Write a function that takes in four arguments (list, index1, index2, index3), and swaps those three positions in the list passed in.</p>"
   ]
  },
  {
   "cell_type": "code",
   "execution_count": 6,
   "metadata": {},
   "outputs": [
    {
     "name": "stdout",
     "output_type": "stream",
     "text": [
      "[3, 10, 4, 8, 4, 2, 6]\n"
     ]
    }
   ],
   "source": [
    "l_1 = [10, 4, 3, 8, 4, 2, 6]\n",
    "\n",
    "def swap(alist,a,b,c):\n",
    "    alist[a],alist[b],alist[c] = alist[c],alist[a],alist[b]\n",
    "    return alist\n",
    "\n",
    "print(swap(l_1,0,1,2))\n",
    "\n",
    "        \n",
    "    \n",
    "    "
   ]
  },
  {
   "cell_type": "markdown",
   "metadata": {},
   "source": [
    "## Two Pointers"
   ]
  },
  {
   "cell_type": "markdown",
   "metadata": {},
   "source": [
    "#### Syntax"
   ]
  },
  {
   "cell_type": "code",
   "execution_count": 7,
   "metadata": {},
   "outputs": [
    {
     "data": {
      "text/plain": [
       "[88, 35, 12, 7, 5, 2, 1]"
      ]
     },
     "execution_count": 7,
     "metadata": {},
     "output_type": "execute_result"
    }
   ],
   "source": [
    "# alist[left], alist[right] \n",
    "def twoPointers(alist):\n",
    "    left = 0 \n",
    "    right = len(alist)-1\n",
    "    \n",
    "    while left <= right:\n",
    "        #swap\n",
    "        alist[left],alist[right] = alist[right], alist[left]\n",
    "        left += 1 #incrementing\n",
    "        right -= 1 #decrementing\n",
    "    return alist\n",
    "my_list2 = [1,2,5,7,12,35,88]\n",
    "twoPointers(my_list2)"
   ]
  },
  {
   "cell_type": "markdown",
   "metadata": {},
   "source": [
    "#### Video of Algorithms <br>\n",
    "<p>Watch the video about algorithms.</p>\n",
    "\n",
    "https://www.youtube.com/watch?v=Q9HjeFD62Uk\n",
    "\n",
    "https://www.youtube.com/watch?v=kPRA0W1kECg\n",
    "\n",
    "https://www.youtube.com/watch?v=ZZuD6iUe3Pc"
   ]
  },
  {
   "cell_type": "markdown",
   "metadata": {},
   "source": [
    "# Sorting Algorithms"
   ]
  },
  {
   "cell_type": "markdown",
   "metadata": {},
   "source": [
    "#### Bubble Sort\n",
    "\n",
    "Worst Case: O(n^2) Time - O(1) Space"
   ]
  },
  {
   "cell_type": "code",
   "execution_count": 20,
   "metadata": {},
   "outputs": [
    {
     "name": "stdout",
     "output_type": "stream",
     "text": [
      "[22, 55, 88, 44, 1, 100, 34, 66]\n",
      "[22, 55, 44, 88, 1, 100, 34, 66]\n",
      "[22, 55, 44, 88, 1, 100, 34, 66]\n",
      "[22, 55, 44, 1, 88, 100, 34, 66]\n",
      "[22, 55, 44, 1, 88, 100, 34, 66]\n",
      "[22, 55, 44, 1, 88, 34, 100, 66]\n",
      "[22, 55, 44, 1, 88, 34, 100, 66]\n",
      "[22, 55, 44, 1, 88, 34, 66, 100]\n",
      "[22, 55, 44, 1, 88, 34, 66, 100]\n",
      "[22, 44, 55, 1, 88, 34, 66, 100]\n",
      "[22, 44, 55, 1, 88, 34, 66, 100]\n",
      "[22, 44, 1, 55, 88, 34, 66, 100]\n",
      "[22, 44, 1, 55, 88, 34, 66, 100]\n",
      "[22, 44, 1, 55, 34, 88, 66, 100]\n",
      "[22, 44, 1, 55, 34, 88, 66, 100]\n",
      "[22, 44, 1, 55, 34, 66, 88, 100]\n",
      "[22, 44, 1, 55, 34, 66, 88, 100]\n",
      "[22, 1, 44, 55, 34, 66, 88, 100]\n",
      "[22, 1, 44, 55, 34, 66, 88, 100]\n",
      "[22, 1, 44, 34, 55, 66, 88, 100]\n",
      "[22, 1, 44, 34, 55, 66, 88, 100]\n",
      "[1, 22, 44, 34, 55, 66, 88, 100]\n",
      "[1, 22, 44, 34, 55, 66, 88, 100]\n",
      "[1, 22, 34, 44, 55, 66, 88, 100]\n"
     ]
    },
    {
     "data": {
      "text/plain": [
       "[1, 22, 34, 44, 55, 66, 88, 100]"
      ]
     },
     "execution_count": 20,
     "metadata": {},
     "output_type": "execute_result"
    }
   ],
   "source": [
    "def swap(i,j, array):\n",
    "    array[i],array[j] = array[j],array[i]\n",
    "    \n",
    "def bubbleSort(array):\n",
    "    \n",
    "    isSorted = False # Flag 🏁\n",
    "    while not isSorted:\n",
    "        isSorted = True\n",
    "        for num in range(len(array)-1):\n",
    "            if array[num] > array[num + 1]:\n",
    "                print(array)\n",
    "                swap(num, num + 1, array)\n",
    "                print(array)\n",
    "                isSorted = False\n",
    "    return array\n",
    "bubbleSort([22,55,88,44,1,100,34,66])"
   ]
  },
  {
   "cell_type": "markdown",
   "metadata": {},
   "source": [
    "##### Insertion Sort\n",
    "\n",
    "Worst Case: O(n^2) time - O(1)space"
   ]
  },
  {
   "cell_type": "code",
   "execution_count": 38,
   "metadata": {},
   "outputs": [
    {
     "name": "stdout",
     "output_type": "stream",
     "text": [
      "[1, 22, 34, 44, 55, 66, 88, 100]\n"
     ]
    }
   ],
   "source": [
    "def swap(i,j,array):\n",
    "    array[i],array[j] = array[j],array[i]\n",
    "    \n",
    "def insertionSort(array):\n",
    "    for i in range(1,len(array)):\n",
    "        j = i\n",
    "        while j > 0 and array[j] < array[j-1]:\n",
    "            swap(j, j-1, array)\n",
    "            j = j - 1\n",
    "    return array\n",
    "print(insertionSort([22,55,88,44,1,100,34,66]))"
   ]
  },
  {
   "cell_type": "markdown",
   "metadata": {},
   "source": [
    "## Merge Sort"
   ]
  },
  {
   "cell_type": "markdown",
   "metadata": {},
   "source": [
    "#### How it Works"
   ]
  },
  {
   "cell_type": "code",
   "execution_count": null,
   "metadata": {},
   "outputs": [],
   "source": [
    "# Step 1: Split everything into its own group\n",
    "# Step 2: From left to right, merge the groupd together (two at a time)\n",
    "# Step 3: while merging place each item in the correct position in larger list\n",
    "# Step 4: cont. step 3-4 until we have one group left\n",
    "\n",
    "from random import randint\n",
    "# generate list of 5 numbers from 0 to 20 \n",
    "nums = [randint(0,20) for i in range(5)]\n",
    "print(nums)\n",
    "\n",
    "def mergeSort(alist):\n",
    "    print(\"Splitting.....\",alist)\n",
    "    \n",
    "    \n"
   ]
  },
  {
   "cell_type": "markdown",
   "metadata": {},
   "source": [
    "# Binary Search\n",
    "\n",
    "The Binary Search algorithm works by finding the number in the middle of a given array and comparing it to the target. Given that the array is sorted\n",
    "\n",
    "* The worst case run time for this algorithm is `O(log(n))`"
   ]
  },
  {
   "cell_type": "code",
   "execution_count": 19,
   "metadata": {},
   "outputs": [
    {
     "data": {
      "text/plain": [
       "'the index of 15 is 3.'"
      ]
     },
     "execution_count": 19,
     "metadata": {},
     "output_type": "execute_result"
    }
   ],
   "source": [
    "nums = [1,6,12,15,20]\n",
    "\n",
    "#The list must be sorted\n",
    "def binarySearchHelperFunction(array, target, left, right):\n",
    "    while left <= right:\n",
    "        middle = (left + right) // 2\n",
    "        potential_match = array[middle]\n",
    "        if target == potential_match:\n",
    "            return f\"the index of {target} is {middle}.\"\n",
    "        elif target < potential_match:\n",
    "            right = middle - 1\n",
    "        else:\n",
    "            left = middle + 1\n",
    "    return -1\n",
    "def binarySearch(array,target):\n",
    "    return binarySearchHelperFunction(array,target,0,len(array)-1)\n",
    "binarySearch(nums,15)\n"
   ]
  },
  {
   "cell_type": "markdown",
   "metadata": {},
   "source": [
    "# Exercises"
   ]
  },
  {
   "cell_type": "markdown",
   "metadata": {},
   "source": [
    "### Exercise #1 <br>\n",
    "<p>Reverse the list below in-place using an in-place algorithm.<br>For extra credit: Reverse the strings at the same time.</p>"
   ]
  },
  {
   "cell_type": "code",
   "execution_count": 35,
   "metadata": {},
   "outputs": [
    {
     "data": {
      "text/plain": [
       "['.', 'sentence', 'a', 'is', 'this']"
      ]
     },
     "execution_count": 35,
     "metadata": {},
     "output_type": "execute_result"
    }
   ],
   "source": [
    "words = ['this' , 'is', 'a', 'sentence', '.']\n",
    "def backwards_list(alist,a,b,c,d,e):\n",
    "    alist[a],alist[b],alist[c],alist[d],alist[e] = alist[e],alist[d],alist[c],alist[b],alist[a]\n",
    "    return alist \n",
    "    \n",
    "    \n",
    "    \n",
    "backwards_list(words,0,1,2,3,4)\n",
    "    \n"
   ]
  },
  {
   "cell_type": "markdown",
   "metadata": {},
   "source": [
    "### Exercise #2 <br>\n",
    "<p>Create a function that counts how many distinct words are in the string below, then outputs a dictionary with the words as the key and the value as the amount of times that word appears in the string.<br>Should output:<br>{'a': 5,<br>\n",
    " 'abstract': 1,<br>\n",
    " 'an': 3,<br>\n",
    " 'array': 2, ... etc...</p>"
   ]
  },
  {
   "cell_type": "code",
   "execution_count": 83,
   "metadata": {},
   "outputs": [
    {
     "name": "stdout",
     "output_type": "stream",
     "text": [
      "{'is', 'structure', 'the', 'In', 'data', 'found', 'can', 'be', 'uses', 'of', 'hash', 'table', 'computing,', 'which', 'into', 'slots', 'abstract', 'buckets', 'index', 'array', 'that', 'map', 'or', 'from', 'value', 'type,', 'to', 'implements', 'values.', 'A', 'keys', 'function', 'a', 'desired', 'compute', 'associative', 'an'}\n"
     ]
    }
   ],
   "source": [
    "# Split input sentence separated by space into words.\n",
    "# So to get all those strings together first we will join each string in given list of strings.\n",
    "# Now create a dictionary using Counter method having strings as keys and their frequencies as values.\n",
    "\n",
    "\n",
    "\n",
    "\n",
    "\n",
    "a_text = 'In computing, a hash table hash map is a data structure which implements an associative array abstract data type, a structure that can map keys to values. A hash table uses a hash function to compute an index into an array of buckets or slots from which the desired value can be found'\n",
    "\n",
    "\n",
    "\n",
    "# def how_many(string):\n",
    "words = a_text.split(\" \")\n",
    "single = set(words)\n",
    "print(single)\n",
    "\n",
    " \n",
    "\n",
    "\n"
   ]
  },
  {
   "cell_type": "markdown",
   "metadata": {},
   "source": [
    "## Exercise #3\n",
    "\n",
    "Write a program to implement a Linear Search Algorithm. Also in a comment, write the Time Complexity of the following algorithm.\n",
    "\n",
    "#### Hint: Linear Searching will require searching a list for a given number. "
   ]
  },
  {
   "cell_type": "code",
   "execution_count": null,
   "metadata": {},
   "outputs": [],
   "source": []
  }
 ],
 "metadata": {
  "kernelspec": {
   "display_name": "Python 3 (ipykernel)",
   "language": "python",
   "name": "python3"
  },
  "language_info": {
   "codemirror_mode": {
    "name": "ipython",
    "version": 3
   },
   "file_extension": ".py",
   "mimetype": "text/x-python",
   "name": "python",
   "nbconvert_exporter": "python",
   "pygments_lexer": "ipython3",
   "version": "3.9.7"
  }
 },
 "nbformat": 4,
 "nbformat_minor": 2
}
